{
 "cells": [
  {
   "cell_type": "code",
   "execution_count": 1,
   "metadata": {},
   "outputs": [],
   "source": [
    "import numpy as np\n",
    "import wget\n",
    "import csv\n",
    "import json\n",
    "from math import cos, acos, sin\n",
    "import pandas as pd\n"
   ]
  },
  {
   "cell_type": "markdown",
   "metadata": {},
   "source": [
    "## Iris dataset"
   ]
  },
  {
   "cell_type": "markdown",
   "metadata": {},
   "source": [
    "##### 1.  Load the previously downloaded Iris dataset as a list of lists (each of the 150 lists should have 5 elements). You can make use of the csv module presented. You can read more about the csv module on the official documentation."
   ]
  },
  {
   "cell_type": "code",
   "execution_count": 2,
   "metadata": {},
   "outputs": [
    {
     "name": "stdout",
     "output_type": "stream",
     "text": [
      "--2023-11-02 10:59:20--  https://archive.ics.uci.edu/ml/machine-learning-databases/iris/iris.data\n",
      "Résolution de archive.ics.uci.edu (archive.ics.uci.edu)… 128.195.10.252\n",
      "Connexion à archive.ics.uci.edu (archive.ics.uci.edu)|128.195.10.252|:443… connecté.\n",
      "requête HTTP transmise, en attente de la réponse… 200 OK\n",
      "Taille : non indiqué\n",
      "Sauvegarde en : « iris.csv »\n",
      "\n",
      "iris.csv                [ <=>                ]   4,44K  --.-KB/s    ds 0s      \n",
      "\n",
      "2023-11-02 10:59:21 (90,4 MB/s) - « iris.csv » sauvegardé [4551]\n",
      "\n"
     ]
    }
   ],
   "source": [
    "!wget https://archive.ics.uci.edu/ml/machine-learning-databases/iris/iris.data -O iris.csv"
   ]
  },
  {
   "cell_type": "code",
   "execution_count": 3,
   "metadata": {},
   "outputs": [
    {
     "name": "stdout",
     "output_type": "stream",
     "text": [
      "[[5.1, 3.5, 1.4, 0.2, 'Iris-setosa'], [5.1, 3.5, 1.4, 0.2, 'Iris-setosa'], [5.1, 3.5, 1.4, 0.2, 'Iris-setosa'], [5.1, 3.5, 1.4, 0.2, 'Iris-setosa'], [5.1, 3.5, 1.4, 0.2, 'Iris-setosa'], [5.1, 3.5, 1.4, 0.2, 'Iris-setosa'], [5.1, 3.5, 1.4, 0.2, 'Iris-setosa'], [5.1, 3.5, 1.4, 0.2, 'Iris-setosa'], [5.1, 3.5, 1.4, 0.2, 'Iris-setosa'], [5.1, 3.5, 1.4, 0.2, 'Iris-setosa'], [5.1, 3.5, 1.4, 0.2, 'Iris-setosa'], [5.1, 3.5, 1.4, 0.2, 'Iris-setosa'], [5.1, 3.5, 1.4, 0.2, 'Iris-setosa'], [5.1, 3.5, 1.4, 0.2, 'Iris-setosa'], [5.1, 3.5, 1.4, 0.2, 'Iris-setosa'], [5.1, 3.5, 1.4, 0.2, 'Iris-setosa'], [5.1, 3.5, 1.4, 0.2, 'Iris-setosa'], [5.1, 3.5, 1.4, 0.2, 'Iris-setosa'], [5.1, 3.5, 1.4, 0.2, 'Iris-setosa'], [5.1, 3.5, 1.4, 0.2, 'Iris-setosa'], [5.1, 3.5, 1.4, 0.2, 'Iris-setosa'], [5.1, 3.5, 1.4, 0.2, 'Iris-setosa'], [5.1, 3.5, 1.4, 0.2, 'Iris-setosa'], [5.1, 3.5, 1.4, 0.2, 'Iris-setosa'], [5.1, 3.5, 1.4, 0.2, 'Iris-setosa'], [5.1, 3.5, 1.4, 0.2, 'Iris-setosa'], [5.1, 3.5, 1.4, 0.2, 'Iris-setosa'], [5.1, 3.5, 1.4, 0.2, 'Iris-setosa'], [5.1, 3.5, 1.4, 0.2, 'Iris-setosa'], [5.1, 3.5, 1.4, 0.2, 'Iris-setosa'], [5.1, 3.5, 1.4, 0.2, 'Iris-setosa'], [5.1, 3.5, 1.4, 0.2, 'Iris-setosa'], [5.1, 3.5, 1.4, 0.2, 'Iris-setosa'], [5.1, 3.5, 1.4, 0.2, 'Iris-setosa'], [5.1, 3.5, 1.4, 0.2, 'Iris-setosa'], [5.1, 3.5, 1.4, 0.2, 'Iris-setosa'], [5.1, 3.5, 1.4, 0.2, 'Iris-setosa'], [5.1, 3.5, 1.4, 0.2, 'Iris-setosa'], [5.1, 3.5, 1.4, 0.2, 'Iris-setosa'], [5.1, 3.5, 1.4, 0.2, 'Iris-setosa'], [5.1, 3.5, 1.4, 0.2, 'Iris-setosa'], [5.1, 3.5, 1.4, 0.2, 'Iris-setosa'], [5.1, 3.5, 1.4, 0.2, 'Iris-setosa'], [5.1, 3.5, 1.4, 0.2, 'Iris-setosa'], [5.1, 3.5, 1.4, 0.2, 'Iris-setosa'], [5.1, 3.5, 1.4, 0.2, 'Iris-setosa'], [5.1, 3.5, 1.4, 0.2, 'Iris-setosa'], [5.1, 3.5, 1.4, 0.2, 'Iris-setosa'], [5.1, 3.5, 1.4, 0.2, 'Iris-setosa'], [5.1, 3.5, 1.4, 0.2, 'Iris-setosa'], [5.1, 3.5, 1.4, 0.2, 'Iris-setosa'], [5.1, 3.5, 1.4, 0.2, 'Iris-setosa'], [5.1, 3.5, 1.4, 0.2, 'Iris-setosa'], [5.1, 3.5, 1.4, 0.2, 'Iris-setosa'], [5.1, 3.5, 1.4, 0.2, 'Iris-setosa'], [5.1, 3.5, 1.4, 0.2, 'Iris-setosa'], [5.1, 3.5, 1.4, 0.2, 'Iris-setosa'], [5.1, 3.5, 1.4, 0.2, 'Iris-setosa'], [5.1, 3.5, 1.4, 0.2, 'Iris-setosa'], [5.1, 3.5, 1.4, 0.2, 'Iris-setosa'], [5.1, 3.5, 1.4, 0.2, 'Iris-setosa'], [5.1, 3.5, 1.4, 0.2, 'Iris-setosa'], [5.1, 3.5, 1.4, 0.2, 'Iris-setosa'], [5.1, 3.5, 1.4, 0.2, 'Iris-setosa'], [5.1, 3.5, 1.4, 0.2, 'Iris-setosa'], [5.1, 3.5, 1.4, 0.2, 'Iris-setosa'], [5.1, 3.5, 1.4, 0.2, 'Iris-setosa'], [5.1, 3.5, 1.4, 0.2, 'Iris-setosa'], [5.1, 3.5, 1.4, 0.2, 'Iris-setosa'], [5.1, 3.5, 1.4, 0.2, 'Iris-setosa'], [5.1, 3.5, 1.4, 0.2, 'Iris-setosa'], [5.1, 3.5, 1.4, 0.2, 'Iris-setosa'], [5.1, 3.5, 1.4, 0.2, 'Iris-setosa'], [5.1, 3.5, 1.4, 0.2, 'Iris-setosa'], [5.1, 3.5, 1.4, 0.2, 'Iris-setosa'], [5.1, 3.5, 1.4, 0.2, 'Iris-setosa'], [5.1, 3.5, 1.4, 0.2, 'Iris-setosa'], [5.1, 3.5, 1.4, 0.2, 'Iris-setosa'], [5.1, 3.5, 1.4, 0.2, 'Iris-setosa'], [5.1, 3.5, 1.4, 0.2, 'Iris-setosa'], [5.1, 3.5, 1.4, 0.2, 'Iris-setosa'], [5.1, 3.5, 1.4, 0.2, 'Iris-setosa'], [5.1, 3.5, 1.4, 0.2, 'Iris-setosa'], [5.1, 3.5, 1.4, 0.2, 'Iris-setosa'], [5.1, 3.5, 1.4, 0.2, 'Iris-setosa'], [5.1, 3.5, 1.4, 0.2, 'Iris-setosa'], [5.1, 3.5, 1.4, 0.2, 'Iris-setosa'], [5.1, 3.5, 1.4, 0.2, 'Iris-setosa'], [5.1, 3.5, 1.4, 0.2, 'Iris-setosa'], [5.1, 3.5, 1.4, 0.2, 'Iris-setosa'], [5.1, 3.5, 1.4, 0.2, 'Iris-setosa'], [5.1, 3.5, 1.4, 0.2, 'Iris-setosa'], [5.1, 3.5, 1.4, 0.2, 'Iris-setosa'], [5.1, 3.5, 1.4, 0.2, 'Iris-setosa'], [5.1, 3.5, 1.4, 0.2, 'Iris-setosa'], [5.1, 3.5, 1.4, 0.2, 'Iris-setosa'], [5.1, 3.5, 1.4, 0.2, 'Iris-setosa'], [5.1, 3.5, 1.4, 0.2, 'Iris-setosa'], [5.1, 3.5, 1.4, 0.2, 'Iris-setosa'], [5.1, 3.5, 1.4, 0.2, 'Iris-setosa'], [5.1, 3.5, 1.4, 0.2, 'Iris-setosa'], [5.1, 3.5, 1.4, 0.2, 'Iris-setosa'], [5.1, 3.5, 1.4, 0.2, 'Iris-setosa'], [5.1, 3.5, 1.4, 0.2, 'Iris-setosa'], [5.1, 3.5, 1.4, 0.2, 'Iris-setosa'], [5.1, 3.5, 1.4, 0.2, 'Iris-setosa'], [5.1, 3.5, 1.4, 0.2, 'Iris-setosa'], [5.1, 3.5, 1.4, 0.2, 'Iris-setosa'], [5.1, 3.5, 1.4, 0.2, 'Iris-setosa'], [5.1, 3.5, 1.4, 0.2, 'Iris-setosa'], [5.1, 3.5, 1.4, 0.2, 'Iris-setosa'], [5.1, 3.5, 1.4, 0.2, 'Iris-setosa'], [5.1, 3.5, 1.4, 0.2, 'Iris-setosa'], [5.1, 3.5, 1.4, 0.2, 'Iris-setosa'], [5.1, 3.5, 1.4, 0.2, 'Iris-setosa'], [5.1, 3.5, 1.4, 0.2, 'Iris-setosa'], [5.1, 3.5, 1.4, 0.2, 'Iris-setosa'], [5.1, 3.5, 1.4, 0.2, 'Iris-setosa'], [5.1, 3.5, 1.4, 0.2, 'Iris-setosa'], [5.1, 3.5, 1.4, 0.2, 'Iris-setosa'], [5.1, 3.5, 1.4, 0.2, 'Iris-setosa'], [5.1, 3.5, 1.4, 0.2, 'Iris-setosa'], [5.1, 3.5, 1.4, 0.2, 'Iris-setosa'], [5.1, 3.5, 1.4, 0.2, 'Iris-setosa'], [5.1, 3.5, 1.4, 0.2, 'Iris-setosa'], [5.1, 3.5, 1.4, 0.2, 'Iris-setosa'], [5.1, 3.5, 1.4, 0.2, 'Iris-setosa'], [5.1, 3.5, 1.4, 0.2, 'Iris-setosa'], [5.1, 3.5, 1.4, 0.2, 'Iris-setosa'], [5.1, 3.5, 1.4, 0.2, 'Iris-setosa'], [5.1, 3.5, 1.4, 0.2, 'Iris-setosa'], [5.1, 3.5, 1.4, 0.2, 'Iris-setosa'], [5.1, 3.5, 1.4, 0.2, 'Iris-setosa'], [5.1, 3.5, 1.4, 0.2, 'Iris-setosa'], [5.1, 3.5, 1.4, 0.2, 'Iris-setosa'], [5.1, 3.5, 1.4, 0.2, 'Iris-setosa'], [5.1, 3.5, 1.4, 0.2, 'Iris-setosa'], [5.1, 3.5, 1.4, 0.2, 'Iris-setosa'], [5.1, 3.5, 1.4, 0.2, 'Iris-setosa'], [5.1, 3.5, 1.4, 0.2, 'Iris-setosa'], [5.1, 3.5, 1.4, 0.2, 'Iris-setosa'], [5.1, 3.5, 1.4, 0.2, 'Iris-setosa'], [5.1, 3.5, 1.4, 0.2, 'Iris-setosa'], [5.1, 3.5, 1.4, 0.2, 'Iris-setosa'], [5.1, 3.5, 1.4, 0.2, 'Iris-setosa'], [5.1, 3.5, 1.4, 0.2, 'Iris-setosa'], [5.1, 3.5, 1.4, 0.2, 'Iris-setosa'], [5.1, 3.5, 1.4, 0.2, 'Iris-setosa'], [5.1, 3.5, 1.4, 0.2, 'Iris-setosa'], [5.1, 3.5, 1.4, 0.2, 'Iris-setosa'], [5.1, 3.5, 1.4, 0.2, 'Iris-setosa']]\n"
     ]
    }
   ],
   "source": [
    "# Dataset observation\n",
    "\n",
    "i = 0\n",
    "list_iris = []\n",
    "with open(\"iris.csv\") as f:\n",
    "    for cols in csv.reader(f):\n",
    "        while i <= 150:\n",
    "            i+=1\n",
    "            list_iris.append([float(cols[0]), float(cols[1]), float(cols[2]), float(cols[3]), cols[4]])\n",
    "\n",
    "print(list_iris)"
   ]
  },
  {
   "cell_type": "markdown",
   "metadata": {},
   "source": [
    "##### Compute and print the mean and the standard deviation for each of the 4 measurement columns (i.e. sepal length and width, petal length and width)."
   ]
  },
  {
   "cell_type": "code",
   "execution_count": 4,
   "metadata": {},
   "outputs": [
    {
     "name": "stdout",
     "output_type": "stream",
     "text": [
      "[5.100000000000001, 3.5, 1.4000000000000004, 0.19999999999999996]\n",
      "[1.7763568394002505e-15, 0.0, 4.440892098500626e-16, 5.551115123125783e-17]\n"
     ]
    }
   ],
   "source": [
    "sepal_length = [inner_list[0] for inner_list in list_iris if inner_list]\n",
    "sepal_width = [inner_list[1] for inner_list in list_iris if inner_list]\n",
    "petal_length = [inner_list[2] for inner_list in list_iris if inner_list]\n",
    "petal_width = [inner_list[3] for inner_list in list_iris if inner_list]\n",
    "\n",
    "\n",
    "mu_sl = np.mean(sepal_length)\n",
    "mu_sw = np.mean(sepal_width)\n",
    "mu_pl = np.mean(petal_length)\n",
    "mu_pw = np.mean(petal_width)\n",
    "\n",
    "mus = [mu_sl, mu_sw, mu_pl, mu_pw]\n",
    "print(mus)\n",
    "\n",
    "std_sl = np.std(sepal_length)\n",
    "std_sw = np.std(sepal_width)\n",
    "std_pl = np.std(petal_length)\n",
    "std_pw = np.std(petal_width)\n",
    "\n",
    "stds = [std_sl, std_sw, std_pl, std_pw]\n",
    "print(stds)\n"
   ]
  },
  {
   "cell_type": "code",
   "execution_count": 5,
   "metadata": {},
   "outputs": [
    {
     "data": {
      "text/plain": [
       "array(['Iris-setosa', 'Iris-versicolor', 'Iris-virginica'], dtype=object)"
      ]
     },
     "execution_count": 5,
     "metadata": {},
     "output_type": "execute_result"
    }
   ],
   "source": [
    "iris_df = pd.read_csv(\"iris.csv\", names= [\"sepal_length\",\"sepal_width\",\"petal_length\",\"petal_width\", \"species\"])\n",
    "\n",
    "iris_df.head()\n",
    "iris_df[\"species\"].unique()"
   ]
  },
  {
   "cell_type": "code",
   "execution_count": 7,
   "metadata": {},
   "outputs": [
    {
     "name": "stdout",
     "output_type": "stream",
     "text": [
      "Means:\n",
      "sepal_length    5.843333\n",
      "sepal_width     3.054000\n",
      "petal_length    3.758667\n",
      "petal_width     1.198667\n",
      "dtype: float64\n",
      "\n",
      "Standard Deviations:\n",
      "sepal_length    0.828066\n",
      "sepal_width     0.433594\n",
      "petal_length    1.764420\n",
      "petal_width     0.763161\n",
      "dtype: float64\n"
     ]
    }
   ],
   "source": [
    "means = iris_df.loc[:, iris_df.columns != \"species\"].mean()\n",
    "stds = iris_df.loc[:, iris_df.columns != \"species\"].std()\n",
    "\n",
    "\n",
    "print(\"Means:\")\n",
    "print(means)\n",
    "\n",
    "print(\"\\nStandard Deviations:\")\n",
    "print(stds)"
   ]
  },
  {
   "cell_type": "code",
   "execution_count": 8,
   "metadata": {},
   "outputs": [
    {
     "name": "stdout",
     "output_type": "stream",
     "text": [
      "Means:\n",
      "                 sepal_length  sepal_width  petal_length  petal_width\n",
      "species                                                              \n",
      "Iris-setosa             5.006        3.418         1.464        0.244\n",
      "Iris-versicolor         5.936        2.770         4.260        1.326\n",
      "Iris-virginica          6.588        2.974         5.552        2.026\n",
      "\n",
      "Standard Deviations:\n",
      "                 sepal_length  sepal_width  petal_length  petal_width\n",
      "species                                                              \n",
      "Iris-setosa          0.352490     0.381024      0.173511     0.107210\n",
      "Iris-versicolor      0.516171     0.313798      0.469911     0.197753\n",
      "Iris-virginica       0.635880     0.322497      0.551895     0.274650\n"
     ]
    }
   ],
   "source": [
    "means = iris_df.groupby('species').mean()\n",
    "stds = iris_df.groupby('species').std()\n",
    "\n",
    "print(\"Means:\")\n",
    "print(means)\n",
    "\n",
    "print(\"\\nStandard Deviations:\")\n",
    "print(stds)\n",
    "\n"
   ]
  },
  {
   "cell_type": "markdown",
   "metadata": {},
   "source": [
    "I would consider mostly the petal width as the std between plants from the same species is small while the overall std is big. That means that individuals from a same specie are close to each other, but they are far away from individuals of another specie. If we wanted to know wich variable is the most important we should do a PCA."
   ]
  },
  {
   "cell_type": "code",
   "execution_count": 9,
   "metadata": {},
   "outputs": [
    {
     "name": "stdout",
     "output_type": "stream",
     "text": [
      "The closest species is :  Iris-versicolor\n",
      "The closest species is :  Iris-virginica\n",
      "The closest species is :  Iris-setosa\n"
     ]
    }
   ],
   "source": [
    "\n",
    "new_indiv = [[5.2,3.1,4.0,1.2],[4.9,2.5,5.6,2.0], [5.4,3.2,1.9,0.4]]\n",
    "\n",
    "def euclidean_distance(x, y):\n",
    "    return np.sqrt(np.sum((x - y) ** 2))\n",
    "\n",
    "for indiv in new_indiv : \n",
    "    distances = means.apply(lambda row: euclidean_distance(indiv, row), axis=1)\n",
    "    closest_species = distances.idxmin()\n",
    "    print(\"The closest species is : \", closest_species)"
   ]
  },
  {
   "cell_type": "markdown",
   "metadata": {},
   "source": [
    "## Citybik.es dataset\n",
    "\n",
    "\n",
    "1) Load the previously downloaded Citybik.es dataset as a Python dictionary. You can make use of the json module presented. You can find the full documentation for the json module here. After the dictionary is loaded, explore its contents from an interactive shell."
   ]
  },
  {
   "cell_type": "code",
   "execution_count": 10,
   "metadata": {},
   "outputs": [
    {
     "name": "stdout",
     "output_type": "stream",
     "text": [
      "--2023-11-02 11:00:50--  http://api.citybik.es/v2/networks/to-bike\n",
      "Résolution de api.citybik.es (api.citybik.es)… 213.52.129.109\n",
      "Connexion à api.citybik.es (api.citybik.es)|213.52.129.109|:80… connecté.\n",
      "requête HTTP transmise, en attente de la réponse… 200 OK\n",
      "Taille : 7999 (7,8K) [application/json]\n",
      "Sauvegarde en : « citybik.json »\n",
      "\n",
      "citybik.json        100%[===================>]   7,81K  --.-KB/s    ds 0s      \n",
      "\n",
      "2023-11-02 11:00:50 (159 MB/s) — « citybik.json » sauvegardé [7999/7999]\n",
      "\n",
      "{'network': {'company': ['Comunicare S.r.l.'], 'href': '/v2/networks/to-bike', 'id': 'to-bike', 'location': {'city': 'Torino', 'country': 'IT', 'latitude': 45.07098200000001, 'longitude': 7.685676}, 'name': '[TO]BIKE', 'source': 'http://www.tobike.it/frmLeStazioni.aspx?ID=22', 'stations': [{'empty_slots': 3, 'extra': {'number': 1, 'reviews': 72, 'score': 4.0, 'status': 'offline', 'uid': '537'}, 'free_bikes': 5, 'id': 'f01c3eb11d001cdeb048c5153d2312ae', 'latitude': 45.04440354326403, 'longitude': 7.617623805999756, 'name': '01. Gerbido', 'timestamp': '2023-11-02T09:52:45.738000Z'}, {'empty_slots': 3, 'extra': {'number': 2, 'reviews': 26, 'score': 3.4, 'status': 'offline', 'uid': '538'}, 'free_bikes': 5, 'id': 'bc312c77398b36b68dcc11a936231be8', 'latitude': 45.067519551794994, 'longitude': 7.563056945800781, 'name': '02. Fabbrichetta', 'timestamp': '2023-11-02T09:52:45.738000Z'}, {'empty_slots': 3, 'extra': {'number': 3, 'reviews': 28, 'score': 3.9, 'status': 'offline', 'uid': '539'}, 'free_bikes': 5, 'id': 'd5b824f8f0b24055820952cae13d8eb6', 'latitude': 45.056364402185814, 'longitude': 7.580995559692383, 'name': '03. Borgo', 'timestamp': '2023-11-02T09:52:45.738000Z'}, {'empty_slots': 3, 'extra': {'number': 4, 'reviews': 112, 'score': 4.2, 'status': 'offline', 'uid': '540'}, 'free_bikes': 5, 'id': 'efb9906681ca572faa6c528c55856187', 'latitude': 45.06171490180712, 'longitude': 7.581188678741455, 'name': '04. Villa Claretta', 'timestamp': '2023-11-02T09:52:45.739000Z'}, {'empty_slots': 3, 'extra': {'number': 5, 'reviews': 44, 'score': 1.2, 'status': 'offline', 'uid': '541'}, 'free_bikes': 5, 'id': '6ada4564cfb797b8829b59ec7742e2ed', 'latitude': 45.06479159126726, 'longitude': 7.588076591491699, 'name': '05. Universita`', 'timestamp': '2023-11-02T09:52:45.739000Z'}, {'empty_slots': 3, 'extra': {'number': 6, 'reviews': 32, 'score': 3.2, 'status': 'offline', 'uid': '542'}, 'free_bikes': 5, 'id': 'd38e65d832c8d32a5e9d6547144e35f5', 'latitude': 45.063139596328625, 'longitude': 7.576832771301269, 'name': '06. Le Serre', 'timestamp': '2023-11-02T09:52:45.739000Z'}, {'empty_slots': 3, 'extra': {'number': 7, 'reviews': 23, 'score': 2.5, 'status': 'offline', 'uid': '543'}, 'free_bikes': 5, 'id': 'ffd596ecd472bfa10fd38a9685f17c8c', 'latitude': 45.06829245027643, 'longitude': 7.599577903747559, 'name': '07. Stazione Ferroviaria Paradiso', 'timestamp': '2023-11-02T09:52:45.739000Z'}, {'empty_slots': 3, 'extra': {'number': 8, 'reviews': 4, 'score': 3.5, 'status': 'offline', 'uid': '1186'}, 'free_bikes': 5, 'id': '22743c60546a6b5713094662d6940f4e', 'latitude': 45.06566411992803, 'longitude': 7.579057797622681, 'name': '08. Lupo', 'timestamp': '2023-11-02T09:52:45.739000Z'}, {'empty_slots': 3, 'extra': {'number': 1, 'reviews': 28, 'score': 3.0, 'status': 'offline', 'uid': '529'}, 'free_bikes': 5, 'id': '8c12fcd7311c98e9a948af38caa4d051', 'latitude': 45.084126990755045, 'longitude': 7.575631141662598, 'name': '01. Certosa / P.le Avis', 'timestamp': '2023-11-02T09:52:45.768000Z'}, {'empty_slots': 3, 'extra': {'number': 4, 'reviews': 87, 'score': 3.0, 'status': 'offline', 'uid': '532'}, 'free_bikes': 5, 'id': 'c50124e7cca913343a6cbeba5e4b6cdb', 'latitude': 45.07373275368509, 'longitude': 7.601809501647949, 'name': '04. Metro Paradiso', 'timestamp': '2023-11-02T09:52:45.768000Z'}, {'empty_slots': 3, 'extra': {'number': 5, 'reviews': 11, 'score': 4.0, 'status': 'offline', 'uid': '533'}, 'free_bikes': 5, 'id': '8fa4807880ed26b205517a071dca0c21', 'latitude': 45.115722339702245, 'longitude': 7.613739967346191, 'name': '05. Savonera', 'timestamp': '2023-11-02T09:52:45.768000Z'}, {'empty_slots': 3, 'extra': {'number': 7, 'reviews': 15, 'score': 2.8, 'status': 'offline', 'uid': '535'}, 'free_bikes': 5, 'id': 'f1d7621c4f2b581dc95871181eaddf7f', 'latitude': 45.07894526052452, 'longitude': 7.574386596679687, 'name': '07. Stazione F.S.', 'timestamp': '2023-11-02T09:52:45.768000Z'}, {'empty_slots': 3, 'extra': {'number': 8, 'reviews': 34, 'score': 1.4, 'status': 'offline', 'uid': '536'}, 'free_bikes': 5, 'id': 'f721695d488b071d3df077eb4a9d50bf', 'latitude': 45.07270231814184, 'longitude': 7.58030891418457, 'name': '08. Gramsci', 'timestamp': '2023-11-02T09:52:45.768000Z'}, {'empty_slots': 0, 'extra': {'number': 1, 'reviews': 35, 'score': 3.8, 'status': 'online', 'uid': '583'}, 'free_bikes': 0, 'id': 'e8242fb035991ef3d83e93fb3b6fa97b', 'latitude': 45.116903418249365, 'longitude': 7.62300968170166, 'name': '01. Concordia', 'timestamp': '2023-11-02T09:52:45.798000Z'}, {'empty_slots': 2, 'extra': {'number': 2, 'reviews': 14, 'score': 4.3, 'status': 'online', 'uid': '584'}, 'free_bikes': 0, 'id': 'bc2f3dac64e76a022c2869659614a6f5', 'latitude': 45.129893668868284, 'longitude': 7.631292343139648, 'name': '02. Pettiti', 'timestamp': '2023-11-02T09:52:45.798000Z'}, {'empty_slots': 1, 'extra': {'number': 3, 'reviews': 15, 'score': 3.9, 'status': 'online', 'uid': '585'}, 'free_bikes': 4, 'id': 'aeb1bf0a60459898301e9f798dbc17b7', 'latitude': 45.12418619577999, 'longitude': 7.632043361663818, 'name': '03. C. Commerciale I Portici', 'timestamp': '2023-11-02T09:52:45.798000Z'}, {'empty_slots': 5, 'extra': {'number': 5, 'reviews': 13, 'score': 4.2, 'status': 'online', 'uid': '587'}, 'free_bikes': 2, 'id': '0c7ddac244be98e27b3249521685e480', 'latitude': 45.127804527473224, 'longitude': 7.635798454284668, 'name': '05. Corso Garibaldi', 'timestamp': '2023-11-02T09:52:45.798000Z'}, {'empty_slots': 5, 'extra': {'number': 7, 'reviews': 20, 'score': 3.0, 'status': 'online', 'uid': '589'}, 'free_bikes': 0, 'id': 'a4792b55af4c2ed4730f24207b924ead', 'latitude': 45.125836425730945, 'longitude': 7.642192840576172, 'name': '07. Buozzi', 'timestamp': '2023-11-02T09:52:45.798000Z'}, {'empty_slots': 2, 'extra': {'number': 8, 'reviews': 10, 'score': 4.1, 'status': 'online', 'uid': '590'}, 'free_bikes': 2, 'id': '99d05089c79ad0acfd5d3acecaf2cd83', 'latitude': 45.12489776867726, 'longitude': 7.65296459197998, 'name': '08. San Marchese', 'timestamp': '2023-11-02T09:52:45.798000Z'}, {'empty_slots': 4, 'extra': {'number': 10, 'reviews': 40, 'score': 4.5, 'status': 'online', 'uid': '592'}, 'free_bikes': 0, 'id': 'f16cba9c6dc917e833eab7bf3e0168b7', 'latitude': 45.114828943536864, 'longitude': 7.641313076019287, 'name': '10. Gallo Praile', 'timestamp': '2023-11-02T09:52:45.798000Z'}, {'empty_slots': 3, 'extra': {'number': 2, 'reviews': 11, 'score': 3.0, 'status': 'offline', 'uid': '593'}, 'free_bikes': 5, 'id': 'd6806ba5784a0d60f24f380a9b09a1cb', 'latitude': 45.099654215224064, 'longitude': 7.531235218048096, 'name': '02. Berlinguer', 'timestamp': '2023-11-02T09:52:45.827000Z'}, {'empty_slots': 3, 'extra': {'number': 1, 'reviews': 16, 'score': 2.1, 'status': 'offline', 'uid': '594'}, 'free_bikes': 5, 'id': '0df8838da4cf2ffe0eaf28629b902dd7', 'latitude': 45.094383006473215, 'longitude': 7.524325847625732, 'name': '01. Municipio', 'timestamp': '2023-11-02T09:52:45.827000Z'}, {'empty_slots': 3, 'extra': {'number': 1, 'reviews': 20, 'score': 2.8, 'status': 'offline', 'uid': '595'}, 'free_bikes': 5, 'id': '8bca5f91b24693d216f576525e7c1647', 'latitude': 45.136100086850355, 'longitude': 7.576360702514648, 'name': '01. Largo Oropa', 'timestamp': '2023-11-02T09:52:45.857000Z'}, {'empty_slots': 3, 'extra': {'number': 2, 'reviews': 1, 'score': 1.0, 'status': 'online', 'uid': '1563'}, 'free_bikes': 5, 'id': 'd55bde750a05150e2bd91d020a5a743e', 'latitude': 45.134345, 'longitude': 7.576462, 'name': '02. BIKE POINT Mandria', 'timestamp': '2023-11-02T09:52:45.857000Z'}, {'empty_slots': 3, 'extra': {'number': 9, 'reviews': 29, 'score': 4.7, 'status': 'offline', 'uid': '591'}, 'free_bikes': 5, 'id': 'dff9f20a6eb38d6a666eccb3cff13fd8', 'latitude': 45.120052841530544, 'longitude': 7.648565769195557, 'name': '09. Rigola', 'timestamp': '2023-11-02T09:52:45.798000Z'}, {'empty_slots': 5, 'extra': {'number': 4, 'reviews': 24, 'score': 4.2, 'status': 'online', 'uid': '586'}, 'free_bikes': 1, 'id': 'e6642b43e6d4732fcd596eef9dc4c931', 'latitude': 45.13563084470412, 'longitude': 7.625724077224732, 'name': '04. Reggia', 'timestamp': '2023-11-02T09:52:45.798000Z'}, {'empty_slots': 10, 'extra': {'number': 6, 'reviews': 37, 'score': 4.2, 'status': 'offline', 'uid': '588'}, 'free_bikes': 2, 'id': 'c152199d3e16721e1f430de89ffff5eb', 'latitude': 45.13300074668823, 'longitude': 7.632789015769959, 'name': '06. Municipio', 'timestamp': '2023-11-02T09:52:45.798000Z'}, {'empty_slots': 3, 'extra': {'number': 10, 'reviews': 5, 'score': 2.5, 'status': 'offline', 'uid': '1185'}, 'free_bikes': 5, 'id': '8d5cc1c49d81c66760c500a922d80b5c', 'latitude': 45.09064418309555, 'longitude': 7.570132452917505, 'name': '10. Europa Unita', 'timestamp': '2023-11-02T09:52:45.768000Z'}]}}\n"
     ]
    }
   ],
   "source": [
    "!wget http://api.citybik.es/v2/networks/to-bike -O  citybik.json\n",
    "\n",
    "import json\n",
    "\n",
    "with open(\"citybik.json\") as f:\n",
    "    obj = json.load(f)\n",
    "    print(obj)\n",
    "\n"
   ]
  },
  {
   "cell_type": "markdown",
   "metadata": {},
   "source": [
    "\n",
    "2. Count and print the number of active stations (a station is active if its extra.status field is \"online\")."
   ]
  },
  {
   "cell_type": "code",
   "execution_count": null,
   "metadata": {},
   "outputs": [
    {
     "name": "stdout",
     "output_type": "stream",
     "text": [
      "There is in total 9 active stations\n"
     ]
    }
   ],
   "source": [
    "active_stations = 0\n",
    "\n",
    "for dic in obj[\"network\"][\"stations\"]:\n",
    "    if dic[\"extra\"][\"status\"] == \"online\":\n",
    "        active_stations +=1\n",
    "\n",
    "\n",
    "print(\"There is in total {} active stations\".format(active_stations))\n",
    "    "
   ]
  },
  {
   "cell_type": "markdown",
   "metadata": {},
   "source": [
    "\n",
    "3. Count and print the total number of bikes available (field free_bikes) and the number of free docks (field empty_slots) throughout all stations."
   ]
  },
  {
   "cell_type": "code",
   "execution_count": 35,
   "metadata": {},
   "outputs": [
    {
     "name": "stdout",
     "output_type": "stream",
     "text": [
      "There is in total 106 bikes available\n",
      "There is in total 91 docks available\n"
     ]
    }
   ],
   "source": [
    "available_bikes = 0\n",
    "free_docks = 0 \n",
    "for dic in obj[\"network\"][\"stations\"]:\n",
    "        available_bikes += dic[\"free_bikes\"]\n",
    "        free_docks += dic[\"empty_slots\"]\n",
    "\n",
    "\n",
    "print(\"There is in total {} bikes available\".format(available_bikes))\n",
    "print(\"There is in total {} docks available\".format(free_docks))\n"
   ]
  },
  {
   "cell_type": "markdown",
   "metadata": {},
   "source": [
    "4. Given the coordinates (latitude, longitude) of a point (e.g. 45.074512,7.694419), identify the closest bike station to it that has available bikes."
   ]
  },
  {
   "cell_type": "code",
   "execution_count": 47,
   "metadata": {},
   "outputs": [],
   "source": [
    "from math import cos, acos, sin\n",
    "\n",
    "def distance_coords(lat1, lng1, lat2, lng2):\n",
    "    \"\"\"Compute the distance among two points.\"\"\"\n",
    "    deg2rad = lambda x: x * 3.141592 / 180\n",
    "    lat1, lng1, lat2, lng2 = map(deg2rad, [ lat1, lng1, lat2, lng2 ]) \n",
    "    R = 6378100 # Radius of the Earth, in meters\n",
    "    return R * acos(sin(lat1) * sin(lat2) + cos(lat1) * cos(lat2) * cos(lng1 - lng2))\n",
    "\n",
    "\n",
    "def closest_bike_station (lat, lng):\n",
    "    # Gather all the station where there is available bikes\n",
    "    av_station = pd.Series()\n",
    "    for station in obj[\"network\"][\"stations\"]:\n",
    "        if station[\"free_bikes\"] != 0 and station[\"extra\"][\"status\"] == \"online\" :\n",
    "            dist =  distance_coords(lat, lng, station[\"latitude\"], station[\"longitude\"])\n",
    "            av_station[station[\"name\"]] = dist\n",
    "\n",
    "\n",
    "    return av_station.idxmin(), av_station.min()\n"
   ]
  },
  {
   "cell_type": "code",
   "execution_count": 48,
   "metadata": {},
   "outputs": [
    {
     "data": {
      "text/plain": [
       "('02. BIKE POINT Mandria', 3594.623318118876)"
      ]
     },
     "execution_count": 48,
     "metadata": {},
     "output_type": "execute_result"
    }
   ],
   "source": [
    "closest_bike_station (45.114828943536864, 7.54)"
   ]
  },
  {
   "cell_type": "markdown",
   "metadata": {},
   "source": [
    "## 2.3 MNIST dataset"
   ]
  },
  {
   "cell_type": "markdown",
   "metadata": {},
   "source": [
    "1. Load the previously downloaded MNIST dataset. You can make use of the csv module already presented."
   ]
  },
  {
   "cell_type": "code",
   "execution_count": 49,
   "metadata": {},
   "outputs": [
    {
     "name": "stdout",
     "output_type": "stream",
     "text": [
      "--2023-11-02 11:37:45--  https://raw.githubusercontent.com/dbdmg/data-science-lab/master/datasets/mnist_test.csv\n",
      "Résolution de raw.githubusercontent.com (raw.githubusercontent.com)… 2606:50c0:8003::154, 2606:50c0:8000::154, 2606:50c0:8001::154, ...\n",
      "Connexion à raw.githubusercontent.com (raw.githubusercontent.com)|2606:50c0:8003::154|:443… connecté.\n",
      "requête HTTP transmise, en attente de la réponse… 200 OK\n",
      "Taille : 18289443 (17M) [text/plain]\n",
      "Sauvegarde en : « mnist.csv »\n",
      "\n",
      "mnist.csv           100%[===================>]  17,44M  25,4MB/s    ds 0,7s    \n",
      "\n",
      "2023-11-02 11:37:47 (25,4 MB/s) — « mnist.csv » sauvegardé [18289443/18289443]\n",
      "\n"
     ]
    }
   ],
   "source": [
    "\n",
    "!wget https://raw.githubusercontent.com/dbdmg/data-science-lab/master/datasets/mnist_test.csv -O mnist.csv"
   ]
  },
  {
   "cell_type": "markdown",
   "metadata": {},
   "source": [
    "2. Create a function that, given a position 1 ≤ k ≤ 10, 000, prints the kth digit of the dataset (i.e. the kth row of the csv file) as a grid of 28 × 28 characters. More specifically, you should map each range\n",
    "of pixel values to the following characters:\n",
    "\n",
    "• [0,64)→ \" \"\n",
    "\n",
    "• [64, 128) → \".\" \n",
    "\n",
    "• [128, 192) → \"*\" \n",
    "\n",
    "• [192, 256) → \"#\""
   ]
  },
  {
   "cell_type": "code",
   "execution_count": 63,
   "metadata": {},
   "outputs": [],
   "source": [
    "def select_col(csv_file, k):\n",
    "    counter = 0\n",
    "    with open(csv_file) as f:\n",
    "        for col in csv.reader(f):\n",
    "            if counter == k:\n",
    "                return col\n",
    "            counter +=1\n",
    "    print(\"No column found\")\n",
    "    return -1\n",
    "\n",
    "#select_col(\"mnist.csv\", 5)\n"
   ]
  },
  {
   "cell_type": "code",
   "execution_count": 69,
   "metadata": {},
   "outputs": [
    {
     "name": "stdout",
     "output_type": "stream",
     "text": [
      "                            \n",
      "                            \n",
      "                            \n",
      "                            \n",
      "               .#..         \n",
      "           *#########.      \n",
      "          *#####***###      \n",
      "          ###.     *##*     \n",
      "          ##.       *##.    \n",
      "          #*         ##*    \n",
      "         ##.         *##    \n",
      "         ##          .##    \n",
      "        .#*          .##    \n",
      "        ##           .##    \n",
      "        ##           .##    \n",
      "        ##           .##    \n",
      "       .##           *##    \n",
      "       .##           ##.    \n",
      "       .##          *##     \n",
      "       .##         *##      \n",
      "        ##       *###       \n",
      "        ###*****####*       \n",
      "        .##########.        \n",
      "          ######*.          \n",
      "                            \n",
      "                            \n",
      "                            \n",
      "                            \n"
     ]
    }
   ],
   "source": [
    "def print_col_k(k, csv_file):\n",
    "    if k < 1 or k > 10000:\n",
    "        print(\"k should be in the range 1 to 10,000\")\n",
    "        return\n",
    "    \n",
    "    grid = [[\" \" for _ in range(28)] for _ in range(28)]\n",
    "\n",
    "    with open(csv_file, 'r') as file:\n",
    "        reader = csv.reader(file)\n",
    "        for i, row in enumerate(reader):\n",
    "            if i == k:\n",
    "                pixel_values = [int(value) for value in row]\n",
    "\n",
    "                \n",
    "                for i in range(28):\n",
    "                    for j in range(28):\n",
    "                        pixel_value = pixel_values[i * 28 + j]\n",
    "                        if 0 <= pixel_value < 64:\n",
    "                            grid[i][j] = \" \"\n",
    "                        elif 64 <= pixel_value < 128:\n",
    "                            grid[i][j] = \".\"\n",
    "                        elif 128 <= pixel_value < 192:\n",
    "                            grid[i][j] = \"*\"\n",
    "                        elif 192 <= pixel_value < 256:\n",
    "                            grid[i][j] = \"#\"\n",
    "\n",
    "                for row in grid:\n",
    "                    print(\"\".join(row))\n",
    "                return\n",
    "\n",
    "    print(\"Could not find digit at position \", k)\n",
    "\n",
    "\n",
    "print_col_k(10, 'mnist.csv')\n",
    "\n",
    "\n"
   ]
  }
 ],
 "metadata": {
  "kernelspec": {
   "display_name": ".venv",
   "language": "python",
   "name": "python3"
  },
  "language_info": {
   "codemirror_mode": {
    "name": "ipython",
    "version": 3
   },
   "file_extension": ".py",
   "mimetype": "text/x-python",
   "name": "python",
   "nbconvert_exporter": "python",
   "pygments_lexer": "ipython3",
   "version": "3.11.5"
  },
  "orig_nbformat": 4
 },
 "nbformat": 4,
 "nbformat_minor": 2
}
